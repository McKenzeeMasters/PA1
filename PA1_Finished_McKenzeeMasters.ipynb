{
 "cells": [
  {
   "cell_type": "markdown",
   "id": "cfabfb6b",
   "metadata": {},
   "source": [
    "# Programming Assignment 1\n",
    "## McKenzee Masters\n",
    "## CS150-01 Fall 2022"
   ]
  },
  {
   "cell_type": "code",
   "execution_count": 8,
   "id": "7187cc34",
   "metadata": {},
   "outputs": [
    {
     "name": "stdout",
     "output_type": "stream",
     "text": [
      "Enter a floating point number: 44.3\n"
     ]
    }
   ],
   "source": [
    "number1=float(input(\"Enter a floating point number: \"))"
   ]
  },
  {
   "cell_type": "code",
   "execution_count": 9,
   "id": "a3d6215f",
   "metadata": {},
   "outputs": [
    {
     "name": "stdout",
     "output_type": "stream",
     "text": [
      "Enter an integer: 16\n"
     ]
    }
   ],
   "source": [
    "number2=int(input(\"Enter an integer: \"))"
   ]
  },
  {
   "cell_type": "code",
   "execution_count": 10,
   "id": "2e65a8d4",
   "metadata": {},
   "outputs": [
    {
     "name": "stdout",
     "output_type": "stream",
     "text": [
      "The sum is 60.3\n"
     ]
    }
   ],
   "source": [
    "print(\"The sum is\", (number1+number2))"
   ]
  },
  {
   "cell_type": "code",
   "execution_count": 11,
   "id": "dc336148",
   "metadata": {},
   "outputs": [
    {
     "name": "stdout",
     "output_type": "stream",
     "text": [
      "The difference is 28.299999999999997\n"
     ]
    }
   ],
   "source": [
    "print(\"The difference is\", (number1-number2))"
   ]
  },
  {
   "cell_type": "code",
   "execution_count": 12,
   "id": "2f97c6a0",
   "metadata": {},
   "outputs": [
    {
     "name": "stdout",
     "output_type": "stream",
     "text": [
      "The product is 708.8\n"
     ]
    }
   ],
   "source": [
    "print(\"The product is\", (number1*number2))"
   ]
  },
  {
   "cell_type": "code",
   "execution_count": 13,
   "id": "1b8a5e0b",
   "metadata": {},
   "outputs": [
    {
     "name": "stdout",
     "output_type": "stream",
     "text": [
      "The quotient is 2.76875\n"
     ]
    }
   ],
   "source": [
    "print(\"The quotient is\", (number1/number2))"
   ]
  },
  {
   "cell_type": "code",
   "execution_count": 14,
   "id": "e9f5c30d",
   "metadata": {},
   "outputs": [
    {
     "name": "stdout",
     "output_type": "stream",
     "text": [
      "The type for this result is <class 'float'>\n"
     ]
    }
   ],
   "source": [
    "print(\"The type for this result is\", type(number1))"
   ]
  }
 ],
 "metadata": {
  "kernelspec": {
   "display_name": "Python 3 (ipykernel)",
   "language": "python",
   "name": "python3"
  },
  "language_info": {
   "codemirror_mode": {
    "name": "ipython",
    "version": 3
   },
   "file_extension": ".py",
   "mimetype": "text/x-python",
   "name": "python",
   "nbconvert_exporter": "python",
   "pygments_lexer": "ipython3",
   "version": "3.9.12"
  }
 },
 "nbformat": 4,
 "nbformat_minor": 5
}
